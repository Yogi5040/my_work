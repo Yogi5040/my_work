{
 "cells": [
  {
   "cell_type": "markdown",
   "id": "f5718b5d",
   "metadata": {},
   "source": [
    "Q.1. Create two int type variables, apply addition, subtraction, division and multiplications\n",
    "and store the results in variables. Then print the data in the following format by calling the\n",
    "variables:\n",
    "First variable is __ & second variable is __.\n",
    "Addition: __ + __ = __\n",
    "Subtraction: __ - __ = __\n",
    "Multiplication: __ * __ = __\n",
    "Division: __ / __ = __"
   ]
  },
  {
   "cell_type": "code",
   "execution_count": 5,
   "id": "76ac8c74",
   "metadata": {},
   "outputs": [
    {
     "name": "stdout",
     "output_type": "stream",
     "text": [
      "Addition : 21 + 9 = 30\n",
      "Subtraction : 21 - 9 = 12\n",
      "Multiplication : 21 * 9 = 189\n",
      "Division : 21 / 9 = 2.3333333333333335\n"
     ]
    }
   ],
   "source": [
    "a=21\n",
    "b=9\n",
    "Addition=a+b\n",
    "Subtraction=a-b\n",
    "Multiplication=a*b\n",
    "Division=a/b\n",
    "print(f'Addition : {a} + {b} = {Addition}')\n",
    "print(f'Subtraction : {a} - {b} = {Subtraction}')\n",
    "print(f'Multiplication : {a} * {b} = {Multiplication}')\n",
    "print(f'Division : {a} / {b} = {Division}')"
   ]
  },
  {
   "cell_type": "code",
   "execution_count": null,
   "id": "5fcba3ed",
   "metadata": {},
   "outputs": [],
   "source": []
  },
  {
   "cell_type": "code",
   "execution_count": null,
   "id": "db3bd0cb",
   "metadata": {},
   "outputs": [],
   "source": [
    "Q.2. What is the difference between the following operators:\n",
    "(i) ‘/’ & ‘//’\n",
    "(ii) ‘**’ & ‘^’"
   ]
  },
  {
   "cell_type": "code",
   "execution_count": 10,
   "id": "7d4de487",
   "metadata": {},
   "outputs": [
    {
     "name": "stdout",
     "output_type": "stream",
     "text": [
      "7.5\n",
      "7\n"
     ]
    }
   ],
   "source": [
    "# ‘/’ is a division & ‘//’ is a floor division\n",
    "print(15/2) \n",
    "print(15//2)"
   ]
  },
  {
   "cell_type": "code",
   "execution_count": 14,
   "id": "acad4ed4",
   "metadata": {},
   "outputs": [
    {
     "name": "stdout",
     "output_type": "stream",
     "text": [
      "27\n",
      "0\n"
     ]
    }
   ],
   "source": [
    "# ‘**’ is exponetiation operator  and ‘^’ is bitwise XOR operator\n",
    "print(3**3) # 3 to the power 3\n",
    "print(3^3)  # binary of 3 is 011 so 011 XOR 011 is 0 as for both same input to XOR will be zero"
   ]
  },
  {
   "cell_type": "markdown",
   "id": "48360d30",
   "metadata": {},
   "source": [
    "Q.3. List the logical operators."
   ]
  },
  {
   "cell_type": "code",
   "execution_count": null,
   "id": "27286ee0",
   "metadata": {},
   "outputs": [],
   "source": [
    "and\n",
    "or \n",
    "not"
   ]
  },
  {
   "cell_type": "code",
   "execution_count": null,
   "id": "0997173e",
   "metadata": {},
   "outputs": [],
   "source": []
  },
  {
   "cell_type": "markdown",
   "id": "b4ece0e5",
   "metadata": {},
   "source": [
    "Q.4. Explain right shift operator and left shift operator with examples."
   ]
  },
  {
   "cell_type": "code",
   "execution_count": 24,
   "id": "b062788a",
   "metadata": {},
   "outputs": [
    {
     "name": "stdout",
     "output_type": "stream",
     "text": [
      "1\n",
      "20\n"
     ]
    }
   ],
   "source": [
    "print(5>>2) # 0101 is binary of 5 shifted to right by 2 will be 0001 which is 1 in decimal system\n",
    "print(5<<2) # 0101 is binary of 5 shifted to left by 2 will be  10100 which is 20 in decimal system"
   ]
  },
  {
   "cell_type": "markdown",
   "id": "b6e83597",
   "metadata": {},
   "source": [
    "Q.5. Create a list containing int type data of length 15. Then write a code to check if 10 is\n",
    "present in the list or not."
   ]
  },
  {
   "cell_type": "code",
   "execution_count": 20,
   "id": "bc8c0658",
   "metadata": {},
   "outputs": [
    {
     "name": "stdout",
     "output_type": "stream",
     "text": [
      "The given list has 10 in it.\n"
     ]
    }
   ],
   "source": [
    "list1 = [1,2,3,4,5,6,7,8,9,10,11,12,13,23,24]\n",
    "for i in list1:\n",
    "    if i==10:\n",
    "        print('The given list has 10 in it.')"
   ]
  },
  {
   "cell_type": "code",
   "execution_count": null,
   "id": "6c9ee40f",
   "metadata": {},
   "outputs": [],
   "source": []
  },
  {
   "cell_type": "code",
   "execution_count": null,
   "id": "15ca2401",
   "metadata": {},
   "outputs": [],
   "source": []
  }
 ],
 "metadata": {
  "kernelspec": {
   "display_name": "Python 3 (ipykernel)",
   "language": "python",
   "name": "python3"
  },
  "language_info": {
   "codemirror_mode": {
    "name": "ipython",
    "version": 3
   },
   "file_extension": ".py",
   "mimetype": "text/x-python",
   "name": "python",
   "nbconvert_exporter": "python",
   "pygments_lexer": "ipython3",
   "version": "3.9.12"
  }
 },
 "nbformat": 4,
 "nbformat_minor": 5
}
