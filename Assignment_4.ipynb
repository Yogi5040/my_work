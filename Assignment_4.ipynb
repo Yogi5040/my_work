{
 "cells": [
  {
   "cell_type": "markdown",
   "id": "5528cc67",
   "metadata": {},
   "source": [
    "1. What exactly is []?"
   ]
  },
  {
   "cell_type": "code",
   "execution_count": null,
   "id": "b5fbbb63",
   "metadata": {},
   "outputs": [],
   "source": [
    "it is an empty list"
   ]
  },
  {
   "cell_type": "markdown",
   "id": "e744cc8b",
   "metadata": {},
   "source": [
    "2. In a list of values stored in a variable called spam, how would you assign the value 'hello' as the third value? (Assume [2, 4, 6, 8, 10] are in spam.)"
   ]
  },
  {
   "cell_type": "code",
   "execution_count": 1,
   "id": "dfdc39e1",
   "metadata": {},
   "outputs": [
    {
     "data": {
      "text/plain": [
       "[2, 4, 'hello', 8, 10]"
      ]
     },
     "execution_count": 1,
     "metadata": {},
     "output_type": "execute_result"
    }
   ],
   "source": [
    "spam= [2, 4, 6, 8, 10]\n",
    "spam[2]='hello' # 3rd value which is 2nd index\n",
    "spam"
   ]
  },
  {
   "cell_type": "markdown",
   "id": "a55391e1",
   "metadata": {},
   "source": [
    "Let's pretend the spam includes the list ['a', 'b', 'c', 'd'] for the next three queries."
   ]
  },
  {
   "cell_type": "markdown",
   "id": "e26ee770",
   "metadata": {},
   "source": [
    "3. What is the value of spam[int(int('3' * 2) / 11)]?"
   ]
  },
  {
   "cell_type": "code",
   "execution_count": null,
   "id": "d022b318",
   "metadata": {},
   "outputs": [],
   "source": [
    "Answer : 'd'"
   ]
  },
  {
   "cell_type": "code",
   "execution_count": 6,
   "id": "b0456664",
   "metadata": {},
   "outputs": [
    {
     "data": {
      "text/plain": [
       "'d'"
      ]
     },
     "execution_count": 6,
     "metadata": {},
     "output_type": "execute_result"
    }
   ],
   "source": [
    "spam=['a', 'b', 'c', 'd'] \n",
    "spam[int(int('3' * 2) / 11)]"
   ]
  },
  {
   "cell_type": "markdown",
   "id": "18def023",
   "metadata": {},
   "source": [
    "4. What is the value of spam[-1]?"
   ]
  },
  {
   "cell_type": "code",
   "execution_count": null,
   "id": "f399b081",
   "metadata": {},
   "outputs": [],
   "source": [
    "Answer : 'd'"
   ]
  },
  {
   "cell_type": "code",
   "execution_count": 9,
   "id": "1c08b35a",
   "metadata": {},
   "outputs": [
    {
     "data": {
      "text/plain": [
       "'d'"
      ]
     },
     "execution_count": 9,
     "metadata": {},
     "output_type": "execute_result"
    }
   ],
   "source": [
    "spam[-1]"
   ]
  },
  {
   "cell_type": "markdown",
   "id": "b3a897e0",
   "metadata": {},
   "source": [
    "5. What is the value of spam[:2]?"
   ]
  },
  {
   "cell_type": "code",
   "execution_count": null,
   "id": "669b592d",
   "metadata": {},
   "outputs": [],
   "source": [
    "Answer : ['a', 'b']"
   ]
  },
  {
   "cell_type": "code",
   "execution_count": 10,
   "id": "52f27c3f",
   "metadata": {},
   "outputs": [
    {
     "data": {
      "text/plain": [
       "['a', 'b']"
      ]
     },
     "execution_count": 10,
     "metadata": {},
     "output_type": "execute_result"
    }
   ],
   "source": [
    "spam[:2]"
   ]
  },
  {
   "cell_type": "markdown",
   "id": "eec2104d",
   "metadata": {},
   "source": [
    "Let's pretend bacon has the list [3.14, 'cat,' 11, 'cat,' True] for the next three questions."
   ]
  },
  {
   "cell_type": "code",
   "execution_count": 13,
   "id": "39087f3b",
   "metadata": {},
   "outputs": [],
   "source": [
    "bacon = [3.14, 'cat', 11, 'cat', True] "
   ]
  },
  {
   "cell_type": "markdown",
   "id": "d73b8625",
   "metadata": {},
   "source": [
    "6. What is the value of bacon.index('cat')?"
   ]
  },
  {
   "cell_type": "code",
   "execution_count": null,
   "id": "a432674d",
   "metadata": {},
   "outputs": [],
   "source": [
    "Answer : 1 # index of first occurence of the value"
   ]
  },
  {
   "cell_type": "code",
   "execution_count": 14,
   "id": "f0a14e66",
   "metadata": {},
   "outputs": [
    {
     "data": {
      "text/plain": [
       "1"
      ]
     },
     "execution_count": 14,
     "metadata": {},
     "output_type": "execute_result"
    }
   ],
   "source": [
    "bacon.index('cat')"
   ]
  },
  {
   "cell_type": "markdown",
   "id": "a2773101",
   "metadata": {},
   "source": [
    "7. How does bacon.append(99) change the look of the list value in bacon?"
   ]
  },
  {
   "cell_type": "code",
   "execution_count": 15,
   "id": "99e17695",
   "metadata": {},
   "outputs": [
    {
     "data": {
      "text/plain": [
       "[3.14, 'cat', 11, 'cat', True, 99]"
      ]
     },
     "execution_count": 15,
     "metadata": {},
     "output_type": "execute_result"
    }
   ],
   "source": [
    "bacon.append(99) # add 99 at the end of the list\n",
    "bacon"
   ]
  },
  {
   "cell_type": "markdown",
   "id": "c540d98f",
   "metadata": {},
   "source": [
    "8. How does bacon.remove('cat') change the look of the list in bacon?"
   ]
  },
  {
   "cell_type": "code",
   "execution_count": 16,
   "id": "1f6a428e",
   "metadata": {},
   "outputs": [
    {
     "data": {
      "text/plain": [
       "[3.14, 11, 'cat', True, 99]"
      ]
     },
     "execution_count": 16,
     "metadata": {},
     "output_type": "execute_result"
    }
   ],
   "source": [
    "bacon.remove('cat') # removes the first occurence of the given value\n",
    "bacon"
   ]
  },
  {
   "cell_type": "markdown",
   "id": "deca19a2",
   "metadata": {},
   "source": [
    "9. What are the list concatenation and list replication operators?"
   ]
  },
  {
   "cell_type": "code",
   "execution_count": 18,
   "id": "6ed584c2",
   "metadata": {},
   "outputs": [
    {
     "data": {
      "text/plain": [
       "[1, 2, 3, 4, 5]"
      ]
     },
     "execution_count": 18,
     "metadata": {},
     "output_type": "execute_result"
    }
   ],
   "source": [
    "# the list concatenation uses + operator to concatenate 2 lists\n",
    "[1,2,3]+[4,5]"
   ]
  },
  {
   "cell_type": "code",
   "execution_count": 19,
   "id": "81ba7aa0",
   "metadata": {},
   "outputs": [
    {
     "data": {
      "text/plain": [
       "[1, 2, 3, 1, 2, 3]"
      ]
     },
     "execution_count": 19,
     "metadata": {},
     "output_type": "execute_result"
    }
   ],
   "source": [
    "# the list replication uses * operator to replicate same list n number of times\n",
    "[1,2,3]*2"
   ]
  },
  {
   "cell_type": "markdown",
   "id": "3c791961",
   "metadata": {},
   "source": [
    "10. What is difference between the list methods append() and insert()?"
   ]
  },
  {
   "cell_type": "code",
   "execution_count": 21,
   "id": "b94ddf33",
   "metadata": {},
   "outputs": [
    {
     "data": {
      "text/plain": [
       "[1, 2, 3, 4, [23, 34]]"
      ]
     },
     "execution_count": 21,
     "metadata": {},
     "output_type": "execute_result"
    }
   ],
   "source": [
    "# append() method will append entire object at the end of the list\n",
    "list1=[1,2,3,4]\n",
    "list1.append([23,34])\n",
    "list1"
   ]
  },
  {
   "cell_type": "code",
   "execution_count": 27,
   "id": "d006eb3e",
   "metadata": {},
   "outputs": [
    {
     "data": {
      "text/plain": [
       "[1, 2, 3, 23, 4]"
      ]
     },
     "execution_count": 27,
     "metadata": {},
     "output_type": "execute_result"
    }
   ],
   "source": [
    "# insert() method will insert object before the specified index or insert the object at the specified index\n",
    "list2=[1,2,3,4]\n",
    "list2.insert(3,23)\n",
    "list2"
   ]
  },
  {
   "cell_type": "markdown",
   "id": "aeddba27",
   "metadata": {},
   "source": [
    "11. What are the two methods for removing items from a list?"
   ]
  },
  {
   "cell_type": "code",
   "execution_count": 36,
   "id": "6ee52d6b",
   "metadata": {},
   "outputs": [
    {
     "data": {
      "text/plain": [
       "[1, 2, 3, 4, 5]"
      ]
     },
     "execution_count": 36,
     "metadata": {},
     "output_type": "execute_result"
    }
   ],
   "source": [
    "list3=[1,2,3,4,5]\n",
    "list3"
   ]
  },
  {
   "cell_type": "code",
   "execution_count": 37,
   "id": "7d7e36cd",
   "metadata": {},
   "outputs": [
    {
     "data": {
      "text/plain": [
       "[2, 3, 4, 5]"
      ]
     },
     "execution_count": 37,
     "metadata": {},
     "output_type": "execute_result"
    }
   ],
   "source": [
    "list3.remove(1) # removes the specified item from the list\n",
    "list3"
   ]
  },
  {
   "cell_type": "code",
   "execution_count": 38,
   "id": "d323d8ea",
   "metadata": {},
   "outputs": [
    {
     "data": {
      "text/plain": [
       "[2, 3, 4]"
      ]
     },
     "execution_count": 38,
     "metadata": {},
     "output_type": "execute_result"
    }
   ],
   "source": [
    "list3.pop()     # removes the item from the specified index , bydefault it will remove the last item or item at the index -1\n",
    "list3"
   ]
  },
  {
   "cell_type": "markdown",
   "id": "a11609d0",
   "metadata": {},
   "source": [
    "12. Describe how list values and string values are identical."
   ]
  },
  {
   "cell_type": "code",
   "execution_count": null,
   "id": "1968aee5",
   "metadata": {},
   "outputs": [],
   "source": [
    "-Both are sequences\n",
    "-Both has length\n",
    "-Both are ordered can be accessed using indices"
   ]
  },
  {
   "cell_type": "markdown",
   "id": "e772423c",
   "metadata": {},
   "source": [
    "13. What's the difference between tuples and lists?"
   ]
  },
  {
   "cell_type": "code",
   "execution_count": null,
   "id": "b4f102d5",
   "metadata": {},
   "outputs": [],
   "source": [
    "-Lists are mutable and tuples are not\n",
    "-list iteration is time consuming as compare to tuple"
   ]
  },
  {
   "cell_type": "markdown",
   "id": "8e3d906b",
   "metadata": {},
   "source": [
    "14. How do you type a tuple value that only contains the integer 42?"
   ]
  },
  {
   "cell_type": "code",
   "execution_count": 7,
   "id": "b84eb091",
   "metadata": {},
   "outputs": [
    {
     "data": {
      "text/plain": [
       "tuple"
      ]
     },
     "execution_count": 7,
     "metadata": {},
     "output_type": "execute_result"
    }
   ],
   "source": [
    "t=(42,)\n",
    "type(t)"
   ]
  },
  {
   "cell_type": "markdown",
   "id": "1efe4721",
   "metadata": {},
   "source": [
    "15. How do you get a list value's tuple form? How do you get a tuple value's list form?"
   ]
  },
  {
   "cell_type": "code",
   "execution_count": 8,
   "id": "84638731",
   "metadata": {},
   "outputs": [
    {
     "data": {
      "text/plain": [
       "[1, 2, 3]"
      ]
     },
     "execution_count": 8,
     "metadata": {},
     "output_type": "execute_result"
    }
   ],
   "source": [
    "t=(1,2,3)\n",
    "list(t)"
   ]
  },
  {
   "cell_type": "code",
   "execution_count": 10,
   "id": "2bc0786c",
   "metadata": {},
   "outputs": [
    {
     "data": {
      "text/plain": [
       "(1, 2, 3)"
      ]
     },
     "execution_count": 10,
     "metadata": {},
     "output_type": "execute_result"
    }
   ],
   "source": [
    "l=[1,2,3]\n",
    "tuple(l)"
   ]
  },
  {
   "cell_type": "markdown",
   "id": "dcb2d332",
   "metadata": {},
   "source": [
    "16. Variables that \"contain\" list values are not necessarily lists themselves. Instead, what do they contain?"
   ]
  },
  {
   "cell_type": "code",
   "execution_count": null,
   "id": "d185bb40",
   "metadata": {},
   "outputs": [],
   "source": [
    "it contains refernce to the list values"
   ]
  },
  {
   "cell_type": "markdown",
   "id": "ecd335b8",
   "metadata": {},
   "source": [
    "17. How do you distinguish between copy.copy() and copy.deepcopy()?"
   ]
  },
  {
   "cell_type": "code",
   "execution_count": null,
   "id": "23990710",
   "metadata": {},
   "outputs": [],
   "source": [
    "copy.copy() : \n",
    "-The copy openration using copy.copy() is called as shallow copy.\n",
    "-It constructs new collection object and then populates it with \n",
    " the refernces of the child objects found in the original object.\n",
    "-The copying process is not recursive and therefore it will not create the copies of the child objects.\n",
    "-The new collection just get populated with the references of the child object present in original object\n",
    " and not creating copies of the child object themselves.\n",
    "-As only references of the object is being copied any chnage in copy will get reflected in the original."
   ]
  },
  {
   "cell_type": "code",
   "execution_count": null,
   "id": "e703396a",
   "metadata": {},
   "outputs": [],
   "source": [
    "copy.deepcopy() :\n",
    "-The copy operation using copy.deepcopy() is called as deepcopy.\n",
    "-It constructs new collection object and then recursively populate it with the objects in the original object.\n",
    "-As process is recursive the child objects also get populated.\n",
    "-Thus change in the copy does not change anything in original object."
   ]
  },
  {
   "cell_type": "code",
   "execution_count": null,
   "id": "dfd7c227",
   "metadata": {},
   "outputs": [],
   "source": []
  }
 ],
 "metadata": {
  "kernelspec": {
   "display_name": "Python 3 (ipykernel)",
   "language": "python",
   "name": "python3"
  },
  "language_info": {
   "codemirror_mode": {
    "name": "ipython",
    "version": 3
   },
   "file_extension": ".py",
   "mimetype": "text/x-python",
   "name": "python",
   "nbconvert_exporter": "python",
   "pygments_lexer": "ipython3",
   "version": "3.9.12"
  }
 },
 "nbformat": 4,
 "nbformat_minor": 5
}
