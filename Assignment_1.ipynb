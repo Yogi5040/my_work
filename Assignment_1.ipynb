{
 "cells": [
  {
   "cell_type": "markdown",
   "id": "f337d300",
   "metadata": {},
   "source": [
    "# Assignment 1"
   ]
  },
  {
   "cell_type": "markdown",
   "id": "24bb2e51",
   "metadata": {},
   "source": [
    "1. In the below elements which of them are values or an expression? eg:- values can be integer or string and expressions will be mathematical operators.\n",
    "\n"
   ]
  },
  {
   "cell_type": "code",
   "execution_count": null,
   "id": "68c2e571",
   "metadata": {},
   "outputs": [],
   "source": [
    "*       : expressions\n",
    "'hello' : values\n",
    "-87.8   : values\n",
    "-       : expressions\n",
    "/       : expressions\n",
    "+       : expressions\n",
    "6       : values"
   ]
  },
  {
   "cell_type": "markdown",
   "id": "82db25f5",
   "metadata": {},
   "source": [
    "2. What is the difference between string and variable?"
   ]
  },
  {
   "cell_type": "code",
   "execution_count": null,
   "id": "4dbc7541",
   "metadata": {},
   "outputs": [],
   "source": [
    "String : It is one of the data type in python.\n",
    "variable : It is one of the entity in python which is used to hold or store some value which may be \n",
    "integer,float, list,dictionary,tuple,set etc."
   ]
  },
  {
   "cell_type": "markdown",
   "id": "1e0eafef",
   "metadata": {},
   "source": [
    "3. Describe three different data types."
   ]
  },
  {
   "cell_type": "code",
   "execution_count": null,
   "id": "e9ca5513",
   "metadata": {},
   "outputs": [],
   "source": [
    "Data types:\n",
    "    Integer\n",
    "    float\n",
    "    complex\n",
    "    list\n",
    "    tuple\n",
    "    range\n",
    "    dictionary\n",
    "    set\n",
    "    frozen set\n",
    "    bool\n",
    "    bytes\n",
    "    byte array\n",
    "    memory view"
   ]
  },
  {
   "cell_type": "markdown",
   "id": "4a41aea4",
   "metadata": {},
   "source": [
    "4. What is an expression made up of? What do all expressions do?"
   ]
  },
  {
   "cell_type": "code",
   "execution_count": null,
   "id": "d4807445",
   "metadata": {},
   "outputs": [],
   "source": [
    "-Expression is made up of operators and operands which interpreter can exicute\n",
    "-Expressions are used to do some operations on the provided inputs by using operators to produce some output."
   ]
  },
  {
   "cell_type": "markdown",
   "id": "1a3ce7f9",
   "metadata": {},
   "source": [
    "5. This assignment statements, like spam = 10. What is the difference between an expression and a statement?"
   ]
  },
  {
   "cell_type": "code",
   "execution_count": null,
   "id": "473ac59c",
   "metadata": {},
   "outputs": [],
   "source": [
    "An expression : An expression in Python is evaluated for some results.\n",
    "                The expression evaluation does not result in any state change.\n",
    "                \n",
    "A statement   : A statement in Python is not evaluated for some results.\n",
    "                The execution of a statement changes the state of the variable"
   ]
  },
  {
   "cell_type": "markdown",
   "id": "fd67dfcf",
   "metadata": {},
   "source": [
    "6. After running the following code, what does the variable bacon contain?"
   ]
  },
  {
   "cell_type": "code",
   "execution_count": null,
   "id": "eceb00af",
   "metadata": {},
   "outputs": [],
   "source": [
    "bacon = 22\n",
    "bacon+1\n",
    "\n",
    "variable bacon will contain 22 "
   ]
  },
  {
   "cell_type": "markdown",
   "id": "8c1921ef",
   "metadata": {},
   "source": [
    "7. What should the values of the following two terms be?"
   ]
  },
  {
   "cell_type": "code",
   "execution_count": null,
   "id": "85713182",
   "metadata": {},
   "outputs": [],
   "source": [
    "'spam' + 'spamspam' ===> 'spamspamspam'\n",
    "'spam' * 3          ===> 'spamspamspam'"
   ]
  },
  {
   "cell_type": "markdown",
   "id": "325d4c9a",
   "metadata": {},
   "source": [
    "8. Why is eggs a valid variable name while 100 is invalid?"
   ]
  },
  {
   "cell_type": "code",
   "execution_count": null,
   "id": "29b76991",
   "metadata": {},
   "outputs": [],
   "source": [
    "variable name can have a-z , A-Z , 0-9(but cannot start with numbers and cannot have only numbers) \n",
    "              can start with _(underscore)\n",
    "              cannot have special character !,@,#,$,%,&\n",
    "              \n",
    "with the appliication of all these rules\n",
    "eggs is valid\n",
    "100  is invalid"
   ]
  },
  {
   "cell_type": "markdown",
   "id": "f1bbf67c",
   "metadata": {},
   "source": [
    "9. What three functions can be used to get the integer, floating-point number, or string version of a value?"
   ]
  },
  {
   "cell_type": "code",
   "execution_count": null,
   "id": "b00ced91",
   "metadata": {},
   "outputs": [],
   "source": [
    "int()\n",
    "float()\n",
    "str()"
   ]
  },
  {
   "cell_type": "markdown",
   "id": "15f84b80",
   "metadata": {},
   "source": [
    "10. Why does this expression cause an error? How can you fix it?"
   ]
  },
  {
   "cell_type": "markdown",
   "id": "a6349e19",
   "metadata": {},
   "source": [
    "'I have eaten ' + 99 + ' burritos.'"
   ]
  },
  {
   "cell_type": "code",
   "execution_count": null,
   "id": "5ac531fb",
   "metadata": {},
   "outputs": [],
   "source": [
    "'I have eaten ' + 99 + ' burritos.'\n",
    "   string       integer   string\n",
    "    \n",
    "    \n",
    "python does not allow to concatenation of different datatypes\n",
    "converting 99 to string allows concatenation"
   ]
  },
  {
   "cell_type": "code",
   "execution_count": 12,
   "id": "a7409556",
   "metadata": {},
   "outputs": [
    {
     "data": {
      "text/plain": [
       "'I have eaten 99 burritos.'"
      ]
     },
     "execution_count": 12,
     "metadata": {},
     "output_type": "execute_result"
    }
   ],
   "source": [
    "'I have eaten ' + '99' + ' burritos.'"
   ]
  }
 ],
 "metadata": {
  "kernelspec": {
   "display_name": "Python 3 (ipykernel)",
   "language": "python",
   "name": "python3"
  },
  "language_info": {
   "codemirror_mode": {
    "name": "ipython",
    "version": 3
   },
   "file_extension": ".py",
   "mimetype": "text/x-python",
   "name": "python",
   "nbconvert_exporter": "python",
   "pygments_lexer": "ipython3",
   "version": "3.9.12"
  }
 },
 "nbformat": 4,
 "nbformat_minor": 5
}
