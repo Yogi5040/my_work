{
 "cells": [
  {
   "cell_type": "markdown",
   "id": "20d19510",
   "metadata": {},
   "source": [
    "1. Why are functions advantageous to have in your programs?"
   ]
  },
  {
   "cell_type": "code",
   "execution_count": null,
   "id": "c2947c3c",
   "metadata": {},
   "outputs": [],
   "source": [
    "Function makes code shorter, cleaner, modular, and organized.\n",
    "Functions can be used anywhere in the program, making them reusable.\n",
    "Debugging and tracking bugs becomes more straightforward as the code is separated into logical blocks."
   ]
  },
  {
   "cell_type": "markdown",
   "id": "fb53e29d",
   "metadata": {},
   "source": [
    "2. When does the code in a function run: when it's specified or when it's called?"
   ]
  },
  {
   "cell_type": "code",
   "execution_count": null,
   "id": "7a749dc8",
   "metadata": {},
   "outputs": [],
   "source": [
    "when it's called."
   ]
  },
  {
   "cell_type": "markdown",
   "id": "e84181dd",
   "metadata": {},
   "source": [
    "3. What statement creates a function?"
   ]
  },
  {
   "cell_type": "code",
   "execution_count": null,
   "id": "00b32dff",
   "metadata": {},
   "outputs": [],
   "source": [
    "def()"
   ]
  },
  {
   "cell_type": "markdown",
   "id": "51d7a964",
   "metadata": {},
   "source": [
    "4. What is the difference between a function and a function call?"
   ]
  },
  {
   "cell_type": "code",
   "execution_count": null,
   "id": "99c48a10",
   "metadata": {},
   "outputs": [],
   "source": [
    "function : it is the function definition where actual logical code is being written.\n",
    "function call : it is the statement where function is used to do task which it has been defined for. \n",
    "                function is called by its name provided with required attributes. "
   ]
  },
  {
   "cell_type": "markdown",
   "id": "dc83b625",
   "metadata": {},
   "source": [
    "5. How many global scopes are there in a Python program? How many local scopes?"
   ]
  },
  {
   "cell_type": "code",
   "execution_count": null,
   "id": "bd480158",
   "metadata": {},
   "outputs": [],
   "source": [
    "global scopes : only one\n",
    "\n",
    "local scopes : \n",
    "multiple local scopes are create whenever function or method is invoked and it is isolated from each other and global scope."
   ]
  },
  {
   "cell_type": "markdown",
   "id": "ad05476d",
   "metadata": {},
   "source": [
    "6. What happens to variables in a local scope when the function call returns?"
   ]
  },
  {
   "cell_type": "code",
   "execution_count": null,
   "id": "0db05c48",
   "metadata": {},
   "outputs": [],
   "source": [
    "when function call returns in python the local scope assosiated with that function is destroyed and \n",
    "the variables defined within the local scope cease to exist."
   ]
  },
  {
   "cell_type": "markdown",
   "id": "658c9b9e",
   "metadata": {},
   "source": [
    "7. What is the concept of a return value? Is it possible to have a return value in an expression?"
   ]
  },
  {
   "cell_type": "code",
   "execution_count": null,
   "id": "4df6e2df",
   "metadata": {},
   "outputs": [],
   "source": [
    "The concept of ruturn the value referes to the value that a function sends back to the caller after it has executed.\n",
    "When a function encounters a return statement, \n",
    "it evaluates the expression following the return keyword and returns the resulting value to the caller.\n",
    "The returned value then can be used for further processing if required.\n",
    "\n",
    "Yes, it is possible to have a return value in an expression. \n",
    "Python allows to use a function call or expression that returns a value directly within another expression. \n",
    "This allows for more concise and expressive code."
   ]
  },
  {
   "cell_type": "markdown",
   "id": "f6ec9ecb",
   "metadata": {},
   "source": [
    "8. If a function does not have a return statement, what is the return value of a call to that function?"
   ]
  },
  {
   "cell_type": "code",
   "execution_count": null,
   "id": "25ee5c82",
   "metadata": {},
   "outputs": [],
   "source": [
    "None"
   ]
  },
  {
   "cell_type": "markdown",
   "id": "376b3cb0",
   "metadata": {},
   "source": [
    "9. How do you make a function variable refer to the global variable?"
   ]
  },
  {
   "cell_type": "code",
   "execution_count": null,
   "id": "c5af9451",
   "metadata": {},
   "outputs": [],
   "source": [
    "define function variable with the help of global keyword"
   ]
  },
  {
   "cell_type": "markdown",
   "id": "14ab937f",
   "metadata": {},
   "source": [
    "10. What is the data type of None?"
   ]
  },
  {
   "cell_type": "code",
   "execution_count": null,
   "id": "f713f3ed",
   "metadata": {},
   "outputs": [],
   "source": [
    "None is datatype of its own NoneType"
   ]
  },
  {
   "cell_type": "markdown",
   "id": "e0071d95",
   "metadata": {},
   "source": [
    "11. What does the sentence import areallyourpetsnamederic do?"
   ]
  },
  {
   "cell_type": "code",
   "execution_count": null,
   "id": "d212b77d",
   "metadata": {},
   "outputs": [],
   "source": [
    "import areallyourpetsnamederic will bring in all the functions , methods of the library or package \n",
    "named as areallyourpetsnamederic"
   ]
  },
  {
   "cell_type": "markdown",
   "id": "be080619",
   "metadata": {},
   "source": [
    "12. If you had a bacon() feature in a spam module, what would you call it after importing spam?"
   ]
  },
  {
   "cell_type": "code",
   "execution_count": null,
   "id": "d3f137eb",
   "metadata": {},
   "outputs": [],
   "source": [
    "it will be called as method."
   ]
  },
  {
   "cell_type": "markdown",
   "id": "a458188f",
   "metadata": {},
   "source": [
    "13. What can you do to save a programme from crashing if it encounters an error?"
   ]
  },
  {
   "cell_type": "code",
   "execution_count": null,
   "id": "67fff910",
   "metadata": {},
   "outputs": [],
   "source": [
    "exception handling can save a programme from crashing if it encounters the error."
   ]
  },
  {
   "cell_type": "markdown",
   "id": "8e0e2eaf",
   "metadata": {},
   "source": [
    "14. What is the purpose of the try clause? What is the purpose of the except clause?"
   ]
  },
  {
   "cell_type": "code",
   "execution_count": null,
   "id": "012401c5",
   "metadata": {},
   "outputs": [],
   "source": [
    "-the try clause encloses the block of code which may throw an runtime error can also be called as logical error\n",
    "-the except cluase encloses the block of code which will be able to handle the errors thrown by the try block.\n",
    "-this usage of try and except clause is called as exception handling \n",
    " to avoid crashing of entire programme might be due to single error."
   ]
  },
  {
   "cell_type": "code",
   "execution_count": null,
   "id": "302381e6",
   "metadata": {},
   "outputs": [],
   "source": []
  },
  {
   "cell_type": "code",
   "execution_count": null,
   "id": "2d4f10c7",
   "metadata": {},
   "outputs": [],
   "source": []
  },
  {
   "cell_type": "code",
   "execution_count": null,
   "id": "be0e97b4",
   "metadata": {},
   "outputs": [],
   "source": []
  }
 ],
 "metadata": {
  "kernelspec": {
   "display_name": "Python 3 (ipykernel)",
   "language": "python",
   "name": "python3"
  },
  "language_info": {
   "codemirror_mode": {
    "name": "ipython",
    "version": 3
   },
   "file_extension": ".py",
   "mimetype": "text/x-python",
   "name": "python",
   "nbconvert_exporter": "python",
   "pygments_lexer": "ipython3",
   "version": "3.9.12"
  }
 },
 "nbformat": 4,
 "nbformat_minor": 5
}
