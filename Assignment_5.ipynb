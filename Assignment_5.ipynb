{
 "cells": [
  {
   "cell_type": "markdown",
   "id": "f537e210",
   "metadata": {},
   "source": [
    "1. What does an empty dictionary's code look like?"
   ]
  },
  {
   "cell_type": "code",
   "execution_count": 1,
   "id": "2a795cf8",
   "metadata": {},
   "outputs": [],
   "source": [
    "d={}"
   ]
  },
  {
   "cell_type": "markdown",
   "id": "f1ca6822",
   "metadata": {},
   "source": [
    "2. What is the value of a dictionary value with the key 'foo' and the value 42?"
   ]
  },
  {
   "cell_type": "code",
   "execution_count": 6,
   "id": "1d9d560b",
   "metadata": {},
   "outputs": [
    {
     "data": {
      "text/plain": [
       "{'foo': 42}"
      ]
     },
     "execution_count": 6,
     "metadata": {},
     "output_type": "execute_result"
    }
   ],
   "source": [
    "d={'foo':42}\n",
    "d"
   ]
  },
  {
   "cell_type": "markdown",
   "id": "ff0e9406",
   "metadata": {},
   "source": [
    "3. What is the most significant distinction between a dictionary and a list?"
   ]
  },
  {
   "cell_type": "code",
   "execution_count": null,
   "id": "62440c02",
   "metadata": {},
   "outputs": [],
   "source": [
    "lists are ordered aand dictionaries are not\n",
    "lists are the sequence of the itmes whereas dictionaries are the collection of items with key value pair\n",
    "list itmes are accessed using indices whereas dictionary items are accessed with the help of keys."
   ]
  },
  {
   "cell_type": "markdown",
   "id": "55f8970a",
   "metadata": {},
   "source": [
    "4. What happens if you try to access spam['foo'] if spam is {'bar': 100}?"
   ]
  },
  {
   "cell_type": "code",
   "execution_count": 13,
   "id": "dbafc072",
   "metadata": {},
   "outputs": [],
   "source": [
    "spam={'bar':100}"
   ]
  },
  {
   "cell_type": "code",
   "execution_count": 14,
   "id": "d3da5dce",
   "metadata": {},
   "outputs": [
    {
     "ename": "KeyError",
     "evalue": "'foo'",
     "output_type": "error",
     "traceback": [
      "\u001b[1;31m---------------------------------------------------------------------------\u001b[0m",
      "\u001b[1;31mKeyError\u001b[0m                                  Traceback (most recent call last)",
      "Cell \u001b[1;32mIn [14], line 1\u001b[0m\n\u001b[1;32m----> 1\u001b[0m spam[\u001b[38;5;124m'\u001b[39m\u001b[38;5;124mfoo\u001b[39m\u001b[38;5;124m'\u001b[39m]\n",
      "\u001b[1;31mKeyError\u001b[0m: 'foo'"
     ]
    }
   ],
   "source": [
    "spam['foo'] # throws KeyError"
   ]
  },
  {
   "cell_type": "markdown",
   "id": "6ed77b22",
   "metadata": {},
   "source": [
    "5. If a dictionary is stored in spam, what is the difference between the expressions 'cat' in spam and 'cat' in spam.keys()?"
   ]
  },
  {
   "cell_type": "code",
   "execution_count": 15,
   "id": "7dea08a3",
   "metadata": {},
   "outputs": [],
   "source": [
    "spam={'cat':123}"
   ]
  },
  {
   "cell_type": "code",
   "execution_count": null,
   "id": "2eb8bd79",
   "metadata": {},
   "outputs": [],
   "source": [
    "there is no diffrence between the expressions 'cat' in spam and 'cat' in spam.keys() \n",
    "as both expressions checks the availability of 'cat' in the keys of the dictionary spam"
   ]
  },
  {
   "cell_type": "code",
   "execution_count": 16,
   "id": "6ebbb99a",
   "metadata": {},
   "outputs": [
    {
     "data": {
      "text/plain": [
       "True"
      ]
     },
     "execution_count": 16,
     "metadata": {},
     "output_type": "execute_result"
    }
   ],
   "source": [
    "'cat' in spam"
   ]
  },
  {
   "cell_type": "code",
   "execution_count": 17,
   "id": "2f7179bc",
   "metadata": {},
   "outputs": [
    {
     "data": {
      "text/plain": [
       "True"
      ]
     },
     "execution_count": 17,
     "metadata": {},
     "output_type": "execute_result"
    }
   ],
   "source": [
    "'cat' in spam.keys()"
   ]
  },
  {
   "cell_type": "markdown",
   "id": "530ae1f3",
   "metadata": {},
   "source": [
    "6. If a dictionary is stored in spam, what is the difference between the expressions 'cat' in spam and 'cat' in spam.values()?"
   ]
  },
  {
   "cell_type": "code",
   "execution_count": null,
   "id": "56d3c8ef",
   "metadata": {},
   "outputs": [],
   "source": [
    "there is diffrence between the expressions 'cat' in spam and 'cat' in spam.values()\n",
    "as expression 'cat' in spam checks the availability of 'cat' in the keys of the dictionary spam\n",
    "whereas expression 'cat' in spam.values() checks the availability of 'cat' in the values of the dictionary spam"
   ]
  },
  {
   "cell_type": "code",
   "execution_count": 18,
   "id": "18f10444",
   "metadata": {},
   "outputs": [
    {
     "data": {
      "text/plain": [
       "True"
      ]
     },
     "execution_count": 18,
     "metadata": {},
     "output_type": "execute_result"
    }
   ],
   "source": [
    "'cat' in spam"
   ]
  },
  {
   "cell_type": "code",
   "execution_count": 20,
   "id": "e21060ca",
   "metadata": {},
   "outputs": [
    {
     "data": {
      "text/plain": [
       "False"
      ]
     },
     "execution_count": 20,
     "metadata": {},
     "output_type": "execute_result"
    }
   ],
   "source": [
    "'cat' in spam.values()"
   ]
  },
  {
   "cell_type": "markdown",
   "id": "2811b161",
   "metadata": {},
   "source": [
    "7. What is a shortcut for the following code?\n",
    "if 'color' not in spam:\n",
    "spam['color'] = 'black'"
   ]
  },
  {
   "cell_type": "code",
   "execution_count": 21,
   "id": "3ff3fec0",
   "metadata": {},
   "outputs": [],
   "source": [
    "if 'color' not in spam:\n",
    "    spam['color'] = 'black'"
   ]
  },
  {
   "cell_type": "code",
   "execution_count": 22,
   "id": "845ed5a2",
   "metadata": {},
   "outputs": [
    {
     "data": {
      "text/plain": [
       "{'cat': 123, 'color': 'black'}"
      ]
     },
     "execution_count": 22,
     "metadata": {},
     "output_type": "execute_result"
    }
   ],
   "source": [
    "spam"
   ]
  },
  {
   "cell_type": "code",
   "execution_count": 25,
   "id": "dd5c8910",
   "metadata": {},
   "outputs": [],
   "source": [
    "if False:\n",
    "    spam['color'] = 'black'"
   ]
  },
  {
   "cell_type": "code",
   "execution_count": 26,
   "id": "21b9e051",
   "metadata": {},
   "outputs": [
    {
     "data": {
      "text/plain": [
       "{'cat': 123, 'color': 'black'}"
      ]
     },
     "execution_count": 26,
     "metadata": {},
     "output_type": "execute_result"
    }
   ],
   "source": [
    "spam"
   ]
  },
  {
   "cell_type": "markdown",
   "id": "c92f25c1",
   "metadata": {},
   "source": [
    "8. How do you \"pretty print\" dictionary values using which module and function?"
   ]
  },
  {
   "cell_type": "code",
   "execution_count": null,
   "id": "e729fb3f",
   "metadata": {},
   "outputs": [],
   "source": [
    "-pretty print : printing the data structures in readable pretty way\n",
    "-pprint.pprint() : can be used to pretty print the dictionary values"
   ]
  },
  {
   "cell_type": "code",
   "execution_count": 28,
   "id": "b22935ec",
   "metadata": {},
   "outputs": [],
   "source": [
    "import pprint"
   ]
  },
  {
   "cell_type": "code",
   "execution_count": 37,
   "id": "8154d6b8",
   "metadata": {},
   "outputs": [],
   "source": [
    "d1=[{'Serial_No': '123', 'Gender': 'M', 'Class_Attended': 'English', 'Class_section': '7-D' },\n",
    "   {'Serial_No': '546', 'Gender': 'U', 'Class_Attended': 'Mathematics', 'Class_section': '5-D'},\n",
    "   {'Serial_No': '456', 'Gender': 'F', 'Class_Attended': 'English', 'Class_section': '7-H'},\n",
    "   {'Serial_No': '876', 'Gender': 'F', 'Class_Attended': 'English', 'Class_section': '10-A'},\n",
    "   {'Serial_No': '343', 'Gender': 'M', 'Class_Attended': 'Hindi', 'Class_section': '3-G'}]"
   ]
  },
  {
   "cell_type": "code",
   "execution_count": 38,
   "id": "968e6d59",
   "metadata": {},
   "outputs": [
    {
     "name": "stdout",
     "output_type": "stream",
     "text": [
      "[{'Class_Attended': 'English',\n",
      "  'Class_section': '7-D',\n",
      "  'Gender': 'M',\n",
      "  'Serial_No': '123'},\n",
      " {'Class_Attended': 'Mathematics',\n",
      "  'Class_section': '5-D',\n",
      "  'Gender': 'U',\n",
      "  'Serial_No': '546'},\n",
      " {'Class_Attended': 'English',\n",
      "  'Class_section': '7-H',\n",
      "  'Gender': 'F',\n",
      "  'Serial_No': '456'},\n",
      " {'Class_Attended': 'English',\n",
      "  'Class_section': '10-A',\n",
      "  'Gender': 'F',\n",
      "  'Serial_No': '876'},\n",
      " {'Class_Attended': 'Hindi',\n",
      "  'Class_section': '3-G',\n",
      "  'Gender': 'M',\n",
      "  'Serial_No': '343'}]\n"
     ]
    }
   ],
   "source": [
    "pprint.pprint(d1)"
   ]
  },
  {
   "cell_type": "code",
   "execution_count": 29,
   "id": "6dd5e454",
   "metadata": {},
   "outputs": [
    {
     "data": {
      "text/plain": [
       "['PrettyPrinter',\n",
       " '_StringIO',\n",
       " '__all__',\n",
       " '__builtins__',\n",
       " '__cached__',\n",
       " '__doc__',\n",
       " '__file__',\n",
       " '__loader__',\n",
       " '__name__',\n",
       " '__package__',\n",
       " '__spec__',\n",
       " '_builtin_scalars',\n",
       " '_collections',\n",
       " '_perfcheck',\n",
       " '_recursion',\n",
       " '_safe_key',\n",
       " '_safe_repr',\n",
       " '_safe_tuple',\n",
       " '_sys',\n",
       " '_types',\n",
       " '_wrap_bytes_repr',\n",
       " 'isreadable',\n",
       " 'isrecursive',\n",
       " 'pformat',\n",
       " 'pp',\n",
       " 'pprint',\n",
       " 're',\n",
       " 'saferepr']"
      ]
     },
     "execution_count": 29,
     "metadata": {},
     "output_type": "execute_result"
    }
   ],
   "source": [
    "dir(pprint)"
   ]
  },
  {
   "cell_type": "code",
   "execution_count": null,
   "id": "f46d3cdf",
   "metadata": {},
   "outputs": [],
   "source": []
  },
  {
   "cell_type": "code",
   "execution_count": null,
   "id": "a9f75e6b",
   "metadata": {},
   "outputs": [],
   "source": []
  }
 ],
 "metadata": {
  "kernelspec": {
   "display_name": "Python 3 (ipykernel)",
   "language": "python",
   "name": "python3"
  },
  "language_info": {
   "codemirror_mode": {
    "name": "ipython",
    "version": 3
   },
   "file_extension": ".py",
   "mimetype": "text/x-python",
   "name": "python",
   "nbconvert_exporter": "python",
   "pygments_lexer": "ipython3",
   "version": "3.9.12"
  }
 },
 "nbformat": 4,
 "nbformat_minor": 5
}
