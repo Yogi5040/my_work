{
 "cells": [
  {
   "cell_type": "markdown",
   "id": "3caebe01",
   "metadata": {},
   "source": [
    "# Assignment 6"
   ]
  },
  {
   "cell_type": "markdown",
   "id": "35372c55",
   "metadata": {},
   "source": [
    "Q.1. What are keywords in python? Using the keyword library, print all the python keywords."
   ]
  },
  {
   "cell_type": "code",
   "execution_count": null,
   "id": "023ae7ed",
   "metadata": {},
   "outputs": [],
   "source": [
    "Keyword: It is the reserved words in the python which has special meaning and  cannot be used as a identifier."
   ]
  },
  {
   "cell_type": "code",
   "execution_count": 6,
   "id": "d83ed3bf",
   "metadata": {},
   "outputs": [
    {
     "name": "stdout",
     "output_type": "stream",
     "text": [
      "['False', 'None', 'True', '__peg_parser__', 'and', 'as', 'assert', 'async', 'await', 'break', 'class', 'continue', 'def', 'del', 'elif', 'else', 'except', 'finally', 'for', 'from', 'global', 'if', 'import', 'in', 'is', 'lambda', 'nonlocal', 'not', 'or', 'pass', 'raise', 'return', 'try', 'while', 'with', 'yield']\n"
     ]
    }
   ],
   "source": [
    "import keyword\n",
    "print(keyword.kwlist)"
   ]
  },
  {
   "cell_type": "markdown",
   "id": "d0f259b7",
   "metadata": {},
   "source": [
    "Q.2. What are the rules to create variables in python?"
   ]
  },
  {
   "cell_type": "code",
   "execution_count": null,
   "id": "04ad5d61",
   "metadata": {},
   "outputs": [],
   "source": [
    "-variable can contain a-z,A-Z,0-9,_\n",
    "-variable cannot contain special characters,spaces,keywords\n",
    "-variable can start with _\n",
    "-variable cannot start with digits\n",
    "-case sensitive"
   ]
  },
  {
   "cell_type": "markdown",
   "id": "33c9490a",
   "metadata": {},
   "source": [
    "Q.3. What are the standards and conventions followed for the nomenclature of variables in\n",
    "python to improve code readability and maintainability?"
   ]
  },
  {
   "cell_type": "code",
   "execution_count": null,
   "id": "3e861d04",
   "metadata": {},
   "outputs": [],
   "source": [
    "apart from rules to create the variables\n",
    "-variables are created with the names which will make sense what exactly it represents.\n",
    "-in case of multiple words in variable name camel casing is the best practice or words seperated by _"
   ]
  },
  {
   "cell_type": "markdown",
   "id": "02a02e67",
   "metadata": {},
   "source": [
    "Q.4. What will happen if a keyword is used as a variable name?"
   ]
  },
  {
   "cell_type": "code",
   "execution_count": 9,
   "id": "2e82865d",
   "metadata": {},
   "outputs": [
    {
     "ename": "SyntaxError",
     "evalue": "invalid syntax (312544361.py, line 1)",
     "output_type": "error",
     "traceback": [
      "\u001b[1;36m  Cell \u001b[1;32mIn [9], line 1\u001b[1;36m\u001b[0m\n\u001b[1;33m    with ='56'\u001b[0m\n\u001b[1;37m         ^\u001b[0m\n\u001b[1;31mSyntaxError\u001b[0m\u001b[1;31m:\u001b[0m invalid syntax\n"
     ]
    }
   ],
   "source": [
    "# it will throw an error \n",
    "example : with=56"
   ]
  },
  {
   "cell_type": "markdown",
   "id": "0f2df65d",
   "metadata": {},
   "source": [
    "Q.5. For what purpose def keyword is used?"
   ]
  },
  {
   "cell_type": "code",
   "execution_count": null,
   "id": "afbf81dd",
   "metadata": {},
   "outputs": [],
   "source": [
    "def keyword is used to write a function definition"
   ]
  },
  {
   "cell_type": "markdown",
   "id": "3cdca5bc",
   "metadata": {},
   "source": [
    "Q.6. What is the operation of this special character ‘\\’?"
   ]
  },
  {
   "cell_type": "code",
   "execution_count": 11,
   "id": "3906dc5c",
   "metadata": {},
   "outputs": [
    {
     "name": "stdout",
     "output_type": "stream",
     "text": [
      "'56'\n"
     ]
    }
   ],
   "source": [
    "\\ is used as escape character which means it will alter the usual meaning of the character in the python\n",
    "example : print('\\'56\\'')"
   ]
  },
  {
   "cell_type": "markdown",
   "id": "2df67116",
   "metadata": {},
   "source": [
    "Q.7. Give an example of the following conditions:\n",
    "(i) Homogeneous list\n",
    "(ii) Heterogeneous set\n",
    "(iii) Homogeneous tuple"
   ]
  },
  {
   "cell_type": "code",
   "execution_count": null,
   "id": "2393dae9",
   "metadata": {},
   "outputs": [],
   "source": [
    "#(i) Homogeneous list \n",
    "\n",
    "list0=[1,2,3,4]\n",
    "list1=['Yogi','Shree','Mudra']\n",
    "\n",
    "\n",
    "#(ii) Heterogeneous set \n",
    "\n",
    "set0={1,2,6,'Yogi','Shree','Mudra'}\n",
    "\n",
    "\n",
    "#(iii) Homogeneous tuple\n",
    "t0=(1,2,3,4)\n",
    "t1=('Yogi','Shree','Mudra')"
   ]
  },
  {
   "cell_type": "markdown",
   "id": "6e8bddae",
   "metadata": {},
   "source": [
    "Q.8. Explain the mutable and immutable data types with proper explanation & examples."
   ]
  },
  {
   "cell_type": "code",
   "execution_count": null,
   "id": "c669cb44",
   "metadata": {},
   "outputs": [],
   "source": [
    "mutable : -the data whose value can be changed after its creation is called as mutable data type.\n",
    "          -mutable data types allows to change their internal state or properties after creation without creating new object.\n",
    "          -they are mostly used where value of the object is chaging based on some condition or \n",
    "           we need to change it as per requirement \n",
    "example : list,dictionary,set\n",
    "\n",
    "immutable : -the data whose value cannot be changed once created is called as immutable data type.\n",
    "            -immutable data types doen not allow to change thier internal state or properties once created,\n",
    "             rather it will create new object.\n",
    "            -these data types are mostly used where value of the object is not going to change or \n",
    "             in situations where immutability offers certain advantages like thread-safety or hashability.\n",
    "example : tuple,strings"
   ]
  },
  {
   "cell_type": "code",
   "execution_count": null,
   "id": "c739d7e3",
   "metadata": {},
   "outputs": [],
   "source": [
    "Q.9. Write a code to create the given structure using only for loop.\n",
    "    *\n",
    "   ***\n",
    "  *****\n",
    " *******\n",
    "*********"
   ]
  },
  {
   "cell_type": "code",
   "execution_count": 27,
   "id": "04a39222",
   "metadata": {},
   "outputs": [
    {
     "name": "stdout",
     "output_type": "stream",
     "text": [
      "         *          \n",
      "        ***         \n",
      "       *****        \n",
      "      *******       \n",
      "     *********      \n"
     ]
    }
   ],
   "source": [
    "for i in range(1,11,2):\n",
    "    print(('*'*i).center(20,' '))"
   ]
  },
  {
   "cell_type": "code",
   "execution_count": null,
   "id": "646d4cdf",
   "metadata": {},
   "outputs": [],
   "source": [
    "Q.10. Write a code to create the given structure using while loop.\n",
    "|||||||||\n",
    " |||||||\n",
    "  |||||\n",
    "   |||\n",
    "    |"
   ]
  },
  {
   "cell_type": "code",
   "execution_count": 28,
   "id": "b8b15904",
   "metadata": {},
   "outputs": [
    {
     "name": "stdout",
     "output_type": "stream",
     "text": [
      "    |||||||||||     \n",
      "     |||||||||      \n",
      "      |||||||       \n",
      "       |||||        \n",
      "        |||         \n",
      "         |          \n"
     ]
    }
   ],
   "source": [
    "for i in range(11,0,-2):\n",
    "    print(('|'*i).center(20,' '))"
   ]
  },
  {
   "cell_type": "code",
   "execution_count": null,
   "id": "fdbab14f",
   "metadata": {},
   "outputs": [],
   "source": []
  }
 ],
 "metadata": {
  "kernelspec": {
   "display_name": "Python 3 (ipykernel)",
   "language": "python",
   "name": "python3"
  },
  "language_info": {
   "codemirror_mode": {
    "name": "ipython",
    "version": 3
   },
   "file_extension": ".py",
   "mimetype": "text/x-python",
   "name": "python",
   "nbconvert_exporter": "python",
   "pygments_lexer": "ipython3",
   "version": "3.9.12"
  }
 },
 "nbformat": 4,
 "nbformat_minor": 5
}
