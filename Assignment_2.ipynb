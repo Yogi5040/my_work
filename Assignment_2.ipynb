{
 "cells": [
  {
   "cell_type": "markdown",
   "id": "4c06953b",
   "metadata": {},
   "source": [
    "# Assignment_2"
   ]
  },
  {
   "cell_type": "markdown",
   "id": "2c5d3a4a",
   "metadata": {},
   "source": [
    "1.What are the two values of the Boolean data type? How do you write them?"
   ]
  },
  {
   "cell_type": "code",
   "execution_count": null,
   "id": "fd3bf932",
   "metadata": {},
   "outputs": [],
   "source": [
    "Two values of boolean data type written as True and False"
   ]
  },
  {
   "cell_type": "markdown",
   "id": "1d183caf",
   "metadata": {},
   "source": [
    "2. What are the three different types of Boolean operators?"
   ]
  },
  {
   "cell_type": "code",
   "execution_count": null,
   "id": "17677858",
   "metadata": {},
   "outputs": [],
   "source": [
    "and\n",
    "or \n",
    "not"
   ]
  },
  {
   "cell_type": "markdown",
   "id": "c03d2797",
   "metadata": {},
   "source": [
    "3. Make a list of each Boolean operator's truth tables (i.e. every possible combination of Boolean values for the operator and what it evaluate )."
   ]
  },
  {
   "cell_type": "markdown",
   "id": "60d70270",
   "metadata": {},
   "source": [
    "a      b      output_and     output_or     \n",
    "0      0           0               0             \n",
    "0      1           0               1              \n",
    "1      0           0               1\n",
    "1      1           1               1      \n",
    "\n",
    "\n",
    "a      output_not\n",
    "0           1\n",
    "1           0"
   ]
  },
  {
   "cell_type": "markdown",
   "id": "bc1980b8",
   "metadata": {},
   "source": [
    "4. What are the values of the following expressions?\n",
    "\n"
   ]
  },
  {
   "cell_type": "code",
   "execution_count": null,
   "id": "6eddcea2",
   "metadata": {},
   "outputs": [],
   "source": [
    "(5 > 4) and (3 == 5) ===> False"
   ]
  },
  {
   "cell_type": "code",
   "execution_count": null,
   "id": "d18fb04f",
   "metadata": {},
   "outputs": [],
   "source": [
    "not (5 > 4) ===> False"
   ]
  },
  {
   "cell_type": "code",
   "execution_count": null,
   "id": "2e1e4954",
   "metadata": {},
   "outputs": [],
   "source": [
    "(5 > 4) or (3 == 5) ===> True"
   ]
  },
  {
   "cell_type": "code",
   "execution_count": null,
   "id": "ea7e3f86",
   "metadata": {},
   "outputs": [],
   "source": [
    "not ((5 > 4) or (3 == 5)) ===> False"
   ]
  },
  {
   "cell_type": "code",
   "execution_count": null,
   "id": "3eb5fab3",
   "metadata": {},
   "outputs": [],
   "source": [
    "(True and True) and (True == False) ===>False"
   ]
  },
  {
   "cell_type": "code",
   "execution_count": null,
   "id": "5ef010db",
   "metadata": {},
   "outputs": [],
   "source": [
    "(not False) or (not True) ===>True"
   ]
  },
  {
   "cell_type": "markdown",
   "id": "2165aa7c",
   "metadata": {},
   "source": [
    "5. What are the six comparison operators?"
   ]
  },
  {
   "cell_type": "code",
   "execution_count": null,
   "id": "54e37b19",
   "metadata": {},
   "outputs": [],
   "source": [
    "<(less than)\n",
    ">(greater than)\n",
    "=(equal to)\n",
    "<=(less than or equal to)\n",
    ">=(greater than or equal to)"
   ]
  },
  {
   "cell_type": "markdown",
   "id": "4632d7b1",
   "metadata": {},
   "source": [
    "7. Identify the three blocks in this code:"
   ]
  },
  {
   "cell_type": "code",
   "execution_count": null,
   "id": "b832a9a5",
   "metadata": {},
   "outputs": [],
   "source": [
    "spam = 0\n",
    "#block 1\n",
    "if spam == 10:\n",
    "    print('eggs')\n",
    "#block 2\n",
    "if spam > 5:\n",
    "    print('bacon')\n",
    "#block 3\n",
    "else:\n",
    "    print('ham')\n",
    "    print('spam')\n",
    "    print('spam')"
   ]
  },
  {
   "cell_type": "markdown",
   "id": "efec845e",
   "metadata": {},
   "source": [
    "8. Write code that prints Hello if 1 is stored in spam, prints Howdy if 2 is stored in spam, and prints Greetings! if anything else is stored in spam."
   ]
  },
  {
   "cell_type": "code",
   "execution_count": 19,
   "id": "d9463705",
   "metadata": {},
   "outputs": [
    {
     "name": "stdout",
     "output_type": "stream",
     "text": [
      "Hello\n",
      "Howdy\n",
      "Greetings!\n"
     ]
    }
   ],
   "source": [
    "spam=1\n",
    "if spam==1:\n",
    "    print('Hello')\n",
    "elif spam==2:\n",
    "    print('Howdy')\n",
    "else:\n",
    "    print('Greetings!')\n",
    "\n",
    "    \n",
    "\n",
    "    \n",
    "    \n",
    "spam=2\n",
    "if spam==1:\n",
    "    print('Hello')\n",
    "elif spam==2:\n",
    "    print('Howdy')\n",
    "else:\n",
    "    print('Greetings!')\n",
    "    \n",
    "    \n",
    "\n",
    "\n",
    "    \n",
    "spam=3\n",
    "if spam==1:\n",
    "    print('Hello')\n",
    "elif spam==2:\n",
    "    print('Howdy')\n",
    "else:\n",
    "    print('Greetings!')"
   ]
  },
  {
   "cell_type": "markdown",
   "id": "8e266ae8",
   "metadata": {},
   "source": [
    "9.If your programme is stuck in an endless loop, what keys you’ll press?"
   ]
  },
  {
   "cell_type": "code",
   "execution_count": null,
   "id": "e2ca7afa",
   "metadata": {},
   "outputs": [],
   "source": [
    "CTRL + C"
   ]
  },
  {
   "cell_type": "markdown",
   "id": "3cdd9236",
   "metadata": {},
   "source": [
    "10. How can you tell the difference between break and continue?"
   ]
  },
  {
   "cell_type": "code",
   "execution_count": null,
   "id": "8a817712",
   "metadata": {},
   "outputs": [],
   "source": [
    "Break and Continue are used to alter the normal flow of program execution\n",
    "\n",
    "Break: When Break is used the execution pointer will exist and it will not execute entire code block after Break statement.\n",
    "       The pointer will be at the first line of the next block of code.\n",
    "        \n",
    "Continue: When Continue is used the block of code after Continue will not be executed for that perticular iteration only.\n",
    "          Next iteration of that code block will be executed normaly."
   ]
  },
  {
   "cell_type": "markdown",
   "id": "0db8c0da",
   "metadata": {},
   "source": [
    "11. In a for loop, what is the difference between range(10), range(0, 10), and range(0, 10, 1)?"
   ]
  },
  {
   "cell_type": "code",
   "execution_count": 8,
   "id": "99286201",
   "metadata": {},
   "outputs": [
    {
     "name": "stdout",
     "output_type": "stream",
     "text": [
      "0\n",
      "1\n",
      "2\n",
      "3\n",
      "4\n",
      "5\n",
      "6\n",
      "7\n",
      "8\n",
      "9\n",
      "******===******************===**********\n",
      "0\n",
      "1\n",
      "2\n",
      "3\n",
      "4\n",
      "5\n",
      "6\n",
      "7\n",
      "8\n",
      "9\n",
      "******===******************===**********\n",
      "0\n",
      "1\n",
      "2\n",
      "3\n",
      "4\n",
      "5\n",
      "6\n",
      "7\n",
      "8\n",
      "9\n"
     ]
    }
   ],
   "source": [
    "for i in range(10):\n",
    "    print(i)\n",
    "    \n",
    "\n",
    "print('******===******************===**********')\n",
    "\n",
    "for i in range(0,10):\n",
    "    print(i)\n",
    "    \n",
    "print('******===******************===**********')\n",
    "\n",
    "for i in range(0,10,1):\n",
    "    print(i)\n",
    "    \n",
    "# seeing the output there is no as such any differnce just the way of writing the code is different"
   ]
  },
  {
   "cell_type": "markdown",
   "id": "fc0673f5",
   "metadata": {},
   "source": [
    "12. Write a short program that prints the numbers 1 to 10 using a for loop. Then write an equivalent program that prints the numbers 1 to 10 using a while loop."
   ]
  },
  {
   "cell_type": "code",
   "execution_count": 1,
   "id": "4db842b2",
   "metadata": {},
   "outputs": [
    {
     "name": "stdout",
     "output_type": "stream",
     "text": [
      "1\n",
      "2\n",
      "3\n",
      "4\n",
      "5\n",
      "6\n",
      "7\n",
      "8\n",
      "9\n",
      "10\n"
     ]
    }
   ],
   "source": [
    "for i in range(1,11):\n",
    "    print(i)"
   ]
  },
  {
   "cell_type": "code",
   "execution_count": 3,
   "id": "7d2691f1",
   "metadata": {},
   "outputs": [
    {
     "name": "stdout",
     "output_type": "stream",
     "text": [
      "1\n",
      "2\n",
      "3\n",
      "4\n",
      "5\n",
      "6\n",
      "7\n",
      "8\n",
      "9\n",
      "10\n"
     ]
    }
   ],
   "source": [
    "i=1\n",
    "while i<11:\n",
    "    print(i)\n",
    "    i=i+1"
   ]
  },
  {
   "cell_type": "markdown",
   "id": "d99783ee",
   "metadata": {},
   "source": [
    "13. If you had a function named bacon() inside a module named spam, how would you call it after importing spam?"
   ]
  },
  {
   "cell_type": "code",
   "execution_count": null,
   "id": "41d29309",
   "metadata": {},
   "outputs": [],
   "source": [
    "import spam\n",
    "a=spam.bacon()"
   ]
  }
 ],
 "metadata": {
  "kernelspec": {
   "display_name": "Python 3 (ipykernel)",
   "language": "python",
   "name": "python3"
  },
  "language_info": {
   "codemirror_mode": {
    "name": "ipython",
    "version": 3
   },
   "file_extension": ".py",
   "mimetype": "text/x-python",
   "name": "python",
   "nbconvert_exporter": "python",
   "pygments_lexer": "ipython3",
   "version": "3.9.12"
  }
 },
 "nbformat": 4,
 "nbformat_minor": 5
}
